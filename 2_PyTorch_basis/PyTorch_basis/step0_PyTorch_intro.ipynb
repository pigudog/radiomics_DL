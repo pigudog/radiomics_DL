{
 "cells": [
  {
   "cell_type": "markdown",
   "metadata": {},
   "source": [
    "# Introduction to PyTorch\n",
    "\n",
    "The debut of Pytorch"
   ]
  },
  {
   "cell_type": "markdown",
   "metadata": {},
   "source": [
    "What is the Torch python package?   A Torch!\n",
    "\n",
    "As for **PyTorch**, it is a version of the **Torch** library for Python programming which is immensely popular for its flexibility, speed, and seamless compatibility with the Python ecosystem. \n",
    "\n",
    "It allows developers to perform computations on Tensors, which are high-dimensional arrays, similar to the ndarray in Numpy. The significant advantage of PyTorch Tensors over **Numpy ndarrays** is that PyTorch Tensors can utilize GPUs to **accelerate their numeric computations**.\n",
    "\n",
    "TensorFlow, on the other hand, is another highly popular framework known for providing comprehensive, flexible ecosystems of tools, libraries, and community resources to researchers pushing the state-of-the-art in Machine Learning, or developers who want to build and deploy Machine Learning applications."
   ]
  },
  {
   "cell_type": "markdown",
   "metadata": {},
   "source": [
    "![title](./img/1.png)"
   ]
  },
  {
   "cell_type": "markdown",
   "metadata": {},
   "source": [
    "## ## The Rapid Development of PyTorch\n",
    "\n",
    "    Is the framework easy to use? Let's see what the figure below showed!\n"
   ]
  },
  {
   "cell_type": "markdown",
   "metadata": {},
   "source": [
    "![title](./img/3.png)"
   ]
  },
  {
   "cell_type": "markdown",
   "metadata": {},
   "source": [
    "![title](./img/4.png)"
   ]
  },
  {
   "cell_type": "markdown",
   "metadata": {},
   "source": [
    "PyTorch has indeed made a significant impact since its debut, making it one of the primary tools for developing deep learning models today.\n",
    "\n",
    "In the past, Caffe had been the predominant deep learning framework until the end of 2015, largely due to its efficiency.\n",
    "\n",
    "However, TensorFlow emerged and quickly rose to prominence thanks to its flexible, versatile, and comprehensive nature. For several years, it has been the preferred choice for many in both academic and industry settings.\n",
    "\n",
    "Yet, since 2019, PyTorch has been gradually gaining more recognition and usage in both academia and industry. It has been celebrated for its user-friendly interface and simplicity, which makes the implementation of deep learning models run smoother. And thus, PyTorch successfully won over a large chunk of the deep learning community.\n",
    "The constant growth and competition between these frameworks indicate the dynamic and ever-evolving nature of the field of deep learning. Such competition also promotes advancements and improvements in the tools we use, ultimately benefiting the developers and researchers in the field."
   ]
  },
  {
   "cell_type": "markdown",
   "metadata": {},
   "source": [
    "### Installing PyTorch: The method using PIP is relatively simple."
   ]
  },
  {
   "cell_type": "markdown",
   "metadata": {
    "collapsed": true
   },
   "source": [
    "the CPU version of PyTorch：pip install torch==1.3.0+cpu torchvision==0.4.1+cpu -f https://download.pytorch.org/whl/torch_stable.html\n",
    "\n",
    "the GPU version of PyTorch：pip install torch===1.3.0 torchvision===0.4.1 -f https://download.pytorch.org/whl/torch_stable （default for CUDA10）"
   ]
  },
  {
   "cell_type": "code",
   "execution_count": 2,
   "metadata": {},
   "outputs": [
    {
     "data": {
      "text/plain": [
       "'2.0.1+cu117'"
      ]
     },
     "execution_count": 2,
     "metadata": {},
     "output_type": "execute_result"
    }
   ],
   "source": [
    "import torch\n",
    "torch.__version__"
   ]
  },
  {
   "cell_type": "markdown",
   "metadata": {},
   "source": [
    "### Basic usage method."
   ]
  },
  {
   "cell_type": "markdown",
   "metadata": {},
   "source": [
    "Creating a matrix, isn't it refreshing? Those who use TensorFlow might feel this way...\n",
    "\n",
    "The \"empty\" function in PyTorch creates an uninitialized matrix. It does not automatically make it a matrix of zeros. \n",
    "\n",
    "The function simply allocates space for the matrix, but it does not fill the matrix with any values. \n",
    "\n",
    "Therefore, it could contain whatever values were already in the allocated memory."
   ]
  },
  {
   "cell_type": "code",
   "execution_count": 3,
   "metadata": {},
   "outputs": [
    {
     "data": {
      "text/plain": [
       "tensor([[8.7245e-39, 9.2755e-39, 8.9082e-39],\n",
       "        [9.9184e-39, 8.4490e-39, 9.6429e-39],\n",
       "        [1.0653e-38, 1.0469e-38, 4.2246e-39],\n",
       "        [1.0378e-38, 9.6429e-39, 9.2755e-39],\n",
       "        [9.7346e-39, 1.0745e-38, 1.0102e-38]])"
      ]
     },
     "execution_count": 3,
     "metadata": {},
     "output_type": "execute_result"
    }
   ],
   "source": [
    "x = torch.empty(5, 3)\n",
    "x"
   ]
  },
  {
   "cell_type": "code",
   "execution_count": 31,
   "metadata": {},
   "outputs": [
    {
     "name": "stdout",
     "output_type": "stream",
     "text": [
      "tensor([[0.3129, 0.3408, 0.3647],\n",
      "        [0.5079, 0.6317, 0.0058],\n",
      "        [0.9295, 0.6210, 0.8737],\n",
      "        [0.5311, 0.7273, 0.0632],\n",
      "        [0.5192, 0.1410, 0.4368]]) \t tensor(0.4671)\n"
     ]
    }
   ],
   "source": [
    "# you can generate a matrix with random values\n",
    "x = torch.rand(5, 3)\n",
    "print(x,\"\\t\",torch.mean(x))"
   ]
  },
  {
   "cell_type": "code",
   "execution_count": 4,
   "metadata": {},
   "outputs": [
    {
     "data": {
      "text/plain": [
       "tensor([[0, 0, 0],\n",
       "        [0, 0, 0],\n",
       "        [0, 0, 0],\n",
       "        [0, 0, 0],\n",
       "        [0, 0, 0]])"
      ]
     },
     "execution_count": 4,
     "metadata": {},
     "output_type": "execute_result"
    }
   ],
   "source": [
    "#  initialize a zero matrix in PyTorch quite simply\n",
    "x = torch.zeros(5, 3, dtype=torch.long)\n",
    "x"
   ]
  },
  {
   "cell_type": "code",
   "execution_count": 5,
   "metadata": {},
   "outputs": [
    {
     "data": {
      "text/plain": [
       "tensor([5.5000, 3.0000])"
      ]
     },
     "execution_count": 5,
     "metadata": {},
     "output_type": "execute_result"
    }
   ],
   "source": [
    "# create matrix with data inputted\n",
    "x = torch.tensor([5.5, 3])\n",
    "x"
   ]
  },
  {
   "cell_type": "markdown",
   "metadata": {},
   "source": [
    "\n",
    "PyTorch's operations are indeed very similar to those provided by NumPy."
   ]
  },
  {
   "cell_type": "code",
   "execution_count": 1,
   "metadata": {},
   "outputs": [
    {
     "name": "stdout",
     "output_type": "stream",
     "text": [
      "[[1 2 3]\n",
      " [4 5 6]]\n",
      "tensor([[1, 2, 3],\n",
      "        [4, 5, 6]])\n"
     ]
    }
   ],
   "source": [
    "import numpy as np\n",
    "x = np.array([[1, 2, 3], [4, 5, 6]])\n",
    "print(x)\n",
    "\n",
    "import torch\n",
    "x = torch.tensor([[1, 2, 3], [4, 5, 6]])\n",
    "print(x)"
   ]
  },
  {
   "cell_type": "code",
   "execution_count": 3,
   "metadata": {},
   "outputs": [
    {
     "name": "stdout",
     "output_type": "stream",
     "text": [
      "tensor([[1., 1., 1.],\n",
      "        [1., 1., 1.],\n",
      "        [1., 1., 1.],\n",
      "        [1., 1., 1.],\n",
      "        [1., 1., 1.]], dtype=torch.float64)\n",
      "tensor([[ 2.2816,  0.9379,  1.9308],\n",
      "        [-1.1799, -0.2935,  0.3151],\n",
      "        [-1.0946, -0.5954,  0.5812],\n",
      "        [ 1.1416,  0.3710,  1.0491],\n",
      "        [-0.3238, -0.2913,  0.9558]])\n"
     ]
    }
   ],
   "source": [
    "x = x.new_ones(5, 3, dtype=torch.double)      \n",
    "print(x)\n",
    "\n",
    "# with a tensor filled with random numbers from a normal distribution, and of type float\n",
    "x = torch.randn_like(x, dtype=torch.float)    \n",
    "print(x)"
   ]
  },
  {
   "cell_type": "code",
   "execution_count": 4,
   "metadata": {},
   "outputs": [
    {
     "data": {
      "text/plain": [
       "torch.Size([5, 3])"
      ]
     },
     "execution_count": 4,
     "metadata": {},
     "output_type": "execute_result"
    }
   ],
   "source": [
    "# Display matrix size\n",
    "x.size()"
   ]
  },
  {
   "cell_type": "markdown",
   "metadata": {},
   "source": [
    "### Basic calculation method"
   ]
  },
  {
   "cell_type": "code",
   "execution_count": 5,
   "metadata": {},
   "outputs": [
    {
     "data": {
      "text/plain": [
       "tensor([[ 3.1040,  1.4851,  2.4684],\n",
       "        [-1.0300, -0.0917,  0.6337],\n",
       "        [-0.7469,  0.3445,  1.4950],\n",
       "        [ 1.7201,  1.2844,  2.0226],\n",
       "        [ 0.5597,  0.5612,  1.4446]])"
      ]
     },
     "execution_count": 5,
     "metadata": {},
     "output_type": "execute_result"
    }
   ],
   "source": [
    "y = torch.rand(5, 3)\n",
    "x + y"
   ]
  },
  {
   "cell_type": "code",
   "execution_count": 6,
   "metadata": {},
   "outputs": [
    {
     "data": {
      "text/plain": [
       "tensor([[ 3.1040,  1.4851,  2.4684],\n",
       "        [-1.0300, -0.0917,  0.6337],\n",
       "        [-0.7469,  0.3445,  1.4950],\n",
       "        [ 1.7201,  1.2844,  2.0226],\n",
       "        [ 0.5597,  0.5612,  1.4446]])"
      ]
     },
     "execution_count": 6,
     "metadata": {},
     "output_type": "execute_result"
    }
   ],
   "source": [
    "torch.add(x, y) #The addition is similar"
   ]
  },
  {
   "cell_type": "markdown",
   "metadata": {},
   "source": [
    "### index"
   ]
  },
  {
   "cell_type": "code",
   "execution_count": 10,
   "metadata": {},
   "outputs": [
    {
     "data": {
      "text/plain": [
       "tensor([ 1.4851, -0.0917,  0.3445,  1.2844,  0.5612])"
      ]
     },
     "execution_count": 10,
     "metadata": {},
     "output_type": "execute_result"
    }
   ],
   "source": [
    "(x + y)[:, 1]"
   ]
  },
  {
   "cell_type": "markdown",
   "metadata": {},
   "source": [
    "The `view` method in PyTorch is analogous to the reshape function in numpy. "
   ]
  },
  {
   "cell_type": "code",
   "execution_count": 12,
   "metadata": {},
   "outputs": [
    {
     "name": "stdout",
     "output_type": "stream",
     "text": [
      "torch.Size([4, 4]) torch.Size([16]) torch.Size([2, 8])\n",
      "tensor([[-2.9485,  0.4962, -1.5095,  0.8563],\n",
      "        [-0.1792, -2.5895,  1.5814,  1.2070],\n",
      "        [ 0.4675,  1.1906, -0.6261, -0.5230],\n",
      "        [-0.5295, -1.0798,  1.3056,  0.0952]]) \n",
      " tensor([-2.9485,  0.4962, -1.5095,  0.8563, -0.1792, -2.5895,  1.5814,  1.2070,\n",
      "         0.4675,  1.1906, -0.6261, -0.5230, -0.5295, -1.0798,  1.3056,  0.0952]) \n",
      " tensor([[-2.9485,  0.4962, -1.5095,  0.8563, -0.1792, -2.5895,  1.5814,  1.2070],\n",
      "        [ 0.4675,  1.1906, -0.6261, -0.5230, -0.5295, -1.0798,  1.3056,  0.0952]])\n"
     ]
    }
   ],
   "source": [
    "x = torch.randn(4, 4)\n",
    "y = x.view(16)\n",
    "z = x.view(-1, 8) \n",
    "print(x.size(), y.size(), z.size())\n",
    "print(x,'\\n',y,'\\n',z)"
   ]
  },
  {
   "cell_type": "markdown",
   "metadata": {},
   "source": [
    "### PyTorch can easily work together with NumPy. \n",
    "\n",
    "You can convert a PyTorch Tensor to a NumPy array and vice versa"
   ]
  },
  {
   "cell_type": "code",
   "execution_count": 13,
   "metadata": {},
   "outputs": [
    {
     "name": "stdout",
     "output_type": "stream",
     "text": [
      "tensor([1., 1., 1., 1., 1.])\n",
      "[1. 1. 1. 1. 1.]\n"
     ]
    }
   ],
   "source": [
    "a = torch.ones(5)\n",
    "print(a)\n",
    "b = a.numpy()\n",
    "print(b)"
   ]
  },
  {
   "cell_type": "code",
   "execution_count": 14,
   "metadata": {},
   "outputs": [
    {
     "data": {
      "text/plain": [
       "tensor([1., 1., 1., 1., 1.], dtype=torch.float64)"
      ]
     },
     "execution_count": 14,
     "metadata": {},
     "output_type": "execute_result"
    }
   ],
   "source": [
    "import numpy as np\n",
    "a = np.ones(5)\n",
    "b = torch.from_numpy(a)\n",
    "b"
   ]
  }
 ],
 "metadata": {
  "kernelspec": {
   "display_name": "Python 3",
   "language": "python",
   "name": "python3"
  },
  "language_info": {
   "codemirror_mode": {
    "name": "ipython",
    "version": 3
   },
   "file_extension": ".py",
   "mimetype": "text/x-python",
   "name": "python",
   "nbconvert_exporter": "python",
   "pygments_lexer": "ipython3",
   "version": "0.0.0"
  }
 },
 "nbformat": 4,
 "nbformat_minor": 2
}
