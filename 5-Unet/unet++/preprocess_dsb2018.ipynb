{
 "cells": [
  {
   "cell_type": "code",
   "execution_count": 1,
   "metadata": {},
   "outputs": [],
   "source": [
    "import os\n",
    "from glob import glob\n",
    "\n",
    "import cv2\n",
    "import numpy as np\n",
    "from tqdm import tqdm"
   ]
  },
  {
   "cell_type": "code",
   "execution_count": 2,
   "metadata": {},
   "outputs": [],
   "source": [
    "img_size = 96\n",
    "\n",
    "paths = glob('inputs/stage1_train/*')\n",
    "\n",
    "os.makedirs('inputs/dsb2018_%d/images' % img_size, exist_ok=True)\n",
    "os.makedirs('inputs/dsb2018_%d/masks/0' % img_size, exist_ok=True)"
   ]
  },
  {
   "cell_type": "code",
   "execution_count": 5,
   "metadata": {},
   "outputs": [
    {
     "name": "stdout",
     "output_type": "stream",
     "text": [
      "inputs/stage1_train\\003cee89357d9fe13516167fd67b609a164651b21934585648c740d2c3d86dc1\n"
     ]
    }
   ],
   "source": [
    "path_i = paths[1]\n",
    "print(path_i)"
   ]
  },
  {
   "cell_type": "code",
   "execution_count": 6,
   "metadata": {},
   "outputs": [
    {
     "name": "stderr",
     "output_type": "stream",
     "text": [
      "100%|██████████| 670/670 [00:26<00:00, 25.08it/s]\n"
     ]
    }
   ],
   "source": [
    "for i in tqdm(range(len(paths))):\n",
    "    path = paths[i]\n",
    "    img = cv2.imread(os.path.join(path, 'images',\n",
    "                        os.path.basename(path) + '.png'))\n",
    "    mask = np.zeros((img.shape[0], img.shape[1]))\n",
    "    for mask_path in glob(os.path.join(path, 'masks', '*')):\n",
    "        mask_ = cv2.imread(mask_path, cv2.IMREAD_GRAYSCALE) > 127\n",
    "        mask[mask_] = 1\n",
    "    if len(img.shape) == 2:\n",
    "        img = np.tile(img[..., None], (1, 1, 3))\n",
    "    if img.shape[2] == 4:\n",
    "        img = img[..., :3]\n",
    "    img = cv2.resize(img, (img_size, img_size))\n",
    "    mask = cv2.resize(mask, (img_size, img_size))\n",
    "    cv2.imwrite(os.path.join('inputs/dsb2018_%d/images' % img_size,\n",
    "                os.path.basename(path) + '.png'), img)\n",
    "    cv2.imwrite(os.path.join('inputs/dsb2018_%d/masks/0' % img_size,\n",
    "                os.path.basename(path) + '.png'), (mask * 255).astype('uint8'))\n"
   ]
  }
 ],
 "metadata": {
  "kernelspec": {
   "display_name": "onekey",
   "language": "python",
   "name": "python3"
  },
  "language_info": {
   "codemirror_mode": {
    "name": "ipython",
    "version": 3
   },
   "file_extension": ".py",
   "mimetype": "text/x-python",
   "name": "python",
   "nbconvert_exporter": "python",
   "pygments_lexer": "ipython3",
   "version": "3.9.18"
  }
 },
 "nbformat": 4,
 "nbformat_minor": 2
}
